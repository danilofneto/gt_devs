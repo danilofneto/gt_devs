{
  "nbformat": 4,
  "nbformat_minor": 0,
  "metadata": {
    "colab": {
      "provenance": []
    },
    "kernelspec": {
      "name": "python3",
      "display_name": "Python 3"
    },
    "language_info": {
      "name": "python"
    }
  },
  "cells": [
    {
      "cell_type": "markdown",
      "source": [
        "# GT CRM 24/01/2021\n",
        "\n",
        "## Medidas de Dispersão e Tendência Central"
      ],
      "metadata": {
        "id": "7VT4u2OxhPHi"
      }
    },
    {
      "cell_type": "markdown",
      "source": [
        "# Aplicação\n",
        "As medidas de tendência central (como média, mediana e moda) e medidas de dispersão (como variância, desvio padrão e amplitude) são amplamente usadas em diversos contextos do dia a dia. Aqui estão alguns exemplos práticos:\n",
        "\n",
        "**Educação:**\n",
        "\n",
        "* **Média de Notas:** Professores calculam a média de notas de provas e trabalhos para determinar a performance geral de um aluno.\n",
        "\n",
        "* **Desvio Padrão em Resultados de Testes:** Escolas e instituições de ensino frequentemente usam o desvio padrão para avaliar a dispersão das notas de alunos em uma prova, ajudando a entender quão uniformemente os alunos performaram.\n",
        "\n",
        "**Saúde e Medicina:**\n",
        "\n",
        "* **Mediana da Pressão Arterial ou Níveis de Colesterol:** Médicos frequentemente se referem à mediana ou à média de leituras de pressão arterial ou níveis de colesterol para avaliar a saúde de um paciente.\n",
        "Variância em Pesquisas Clínicas: Em estudos clínicos, a variância e o desvio padrão são usados para entender a dispersão dos resultados, como a eficácia de um medicamento.\n",
        "\n",
        "**Negócios e Finanças:**\n",
        "\n",
        "* **Média de Vendas:** Empresas calculam a média de vendas diárias, mensais ou anuais para entender o desempenho do negócio.\n",
        "Desvio Padrão em Investimentos: Investidores usam o desvio padrão para medir a volatilidade de retornos de um ativo, ajudando a entender o risco associado.\n",
        "\n",
        "**Esportes:**\n",
        "\n",
        "* **Média de Pontos por Jogo:** A média de pontos marcados por um jogador ou equipe pode ser usada para avaliar o desempenho.\n",
        "\n",
        "* **Desvio Padrão em Resultados de Corridas:** O desvio padrão dos tempos de corrida pode ajudar a entender a consistência de um corredor.\n",
        "\n",
        "**Meteorologia:**\n",
        "\n",
        "* **Média de Temperaturas:** A média de temperaturas diárias, mensais ou anuais é usada para monitorar e prever o clima.\n",
        "\n",
        "* **Amplitude Térmica:** A amplitude térmica diária (diferença entre a temperatura máxima e mínima) pode ser usada para entender as variações climáticas em uma região.\n",
        "\n",
        "**Pesquisa de Mercado:**\n",
        "\n",
        "* **Mediana de Renda dos Consumidores:** A mediana da renda em uma pesquisa de mercado pode ser mais informativa do que a média, especialmente se a distribuição de renda for assimétrica.\n",
        "\n",
        "* **Desvio Padrão em Avaliações de Clientes:** O desvio padrão das avaliações de clientes sobre um produto pode indicar a consistência da satisfação do cliente.\n",
        "\n",
        "Estes exemplos mostram como as medidas de tendência central e dispersão são ferramentas fundamentais para analisar e interpretar dados em vários aspectos da vida cotidiana."
      ],
      "metadata": {
        "id": "haRSje5vhc9q"
      }
    },
    {
      "cell_type": "code",
      "execution_count": null,
      "metadata": {
        "id": "E0OMivwwM83C"
      },
      "outputs": [],
      "source": [
        "import pandas as pd\n",
        "import matplotlib.pyplot as plt\n",
        "import statistics as st\n",
        "import numpy as np"
      ]
    },
    {
      "cell_type": "code",
      "source": [
        "# roda códigos em R\n",
        "%load_ext rpy2.ipython"
      ],
      "metadata": {
        "id": "uBPzCRlg20Xe"
      },
      "execution_count": 1,
      "outputs": []
    },
    {
      "cell_type": "markdown",
      "source": [
        "# Criando os dados de exemplo"
      ],
      "metadata": {
        "id": "8yTuzx7F3Pyv"
      }
    },
    {
      "cell_type": "code",
      "source": [
        "# Python\n",
        "aluno_nota = {\n",
        "    'Ana': 3,\n",
        "    'Breno': 4,\n",
        "    'Carlos': 2,\n",
        "    'Daniela': 11,\n",
        "    'Zequinha': 3,\n",
        "    'Fabiana': 7\n",
        "}\n",
        "\n",
        "df = pd.DataFrame(list(aluno_nota.items()), columns=['Aluno', 'Nota'])\n",
        "\n",
        "print(df)"
      ],
      "metadata": {
        "colab": {
          "base_uri": "https://localhost:8080/"
        },
        "id": "3C7xE_UVuEK9",
        "outputId": "40b5b010-2e61-414b-9e35-b0f0ba988747"
      },
      "execution_count": null,
      "outputs": [
        {
          "output_type": "stream",
          "name": "stdout",
          "text": [
            "      Aluno  Nota\n",
            "0       Ana     3\n",
            "1     Breno     4\n",
            "2    Carlos     2\n",
            "3   Daniela    11\n",
            "4  Zequinha     3\n",
            "5   Fabiana     7\n"
          ]
        }
      ]
    },
    {
      "cell_type": "code",
      "source": [
        "%%R\n",
        "\n",
        "# Dados de alunos e notas\n",
        "aluno_nota <- list(\n",
        "  Ana = 3,\n",
        "  Breno = 4,\n",
        "  Carlos = 2,\n",
        "  Daniela = 11,\n",
        "  Zequinha = 3,\n",
        "  Fabiana = 7\n",
        ")\n",
        "\n",
        "# Convertendo para data frame\n",
        "df <- data.frame(Aluno = names(aluno_nota), Nota = unlist(aluno_nota), stringsAsFactors = FALSE)\n",
        "\n",
        "# Exibindo o data frame\n",
        "print(df)\n"
      ],
      "metadata": {
        "colab": {
          "base_uri": "https://localhost:8080/"
        },
        "id": "NDDooSis3YhF",
        "outputId": "80297b77-b38f-4868-ec5e-e28567299eca"
      },
      "execution_count": 2,
      "outputs": [
        {
          "output_type": "stream",
          "name": "stdout",
          "text": [
            "            Aluno Nota\n",
            "Ana           Ana    3\n",
            "Breno       Breno    4\n",
            "Carlos     Carlos    2\n",
            "Daniela   Daniela   11\n",
            "Zequinha Zequinha    3\n",
            "Fabiana   Fabiana    7\n"
          ]
        }
      ]
    },
    {
      "cell_type": "markdown",
      "source": [
        "# Medidas de Tendência Central\n",
        "\n",
        "* As medidas de tendência central são valores que representam o ponto central ou típico de um conjunto de dados. As três principais medidas de tendência central são: Média, Mediana e Moda"
      ],
      "metadata": {
        "id": "J5RsLMLDNOux"
      }
    },
    {
      "cell_type": "markdown",
      "source": [
        "## Moda"
      ],
      "metadata": {
        "id": "y4q6dIBfvf-h"
      }
    },
    {
      "cell_type": "markdown",
      "source": [
        "Em um conjunto de dados, a moda é o valor mais frequente no conjunto, ou seja, que mais se repete."
      ],
      "metadata": {
        "id": "S2TZONbBv0Zu"
      }
    },
    {
      "cell_type": "code",
      "source": [
        "# Para calcular a moda basta ordenar os dados e analisar o que mais se repete\n",
        "df['Nota'].value_counts()"
      ],
      "metadata": {
        "colab": {
          "base_uri": "https://localhost:8080/"
        },
        "id": "ppMRKkt1vfA5",
        "outputId": "2e946ba9-c86a-48a2-c01e-1e7a13da6aa5"
      },
      "execution_count": null,
      "outputs": [
        {
          "output_type": "execute_result",
          "data": {
            "text/plain": [
              "3     2\n",
              "4     1\n",
              "2     1\n",
              "11    1\n",
              "7     1\n",
              "Name: Nota, dtype: int64"
            ]
          },
          "metadata": {},
          "execution_count": 16
        }
      ]
    },
    {
      "cell_type": "code",
      "source": [
        "# ou usar a função mode da biblioteca scipy\n",
        "moda = st.mode(df['Nota'])\n",
        "print(moda)"
      ],
      "metadata": {
        "colab": {
          "base_uri": "https://localhost:8080/"
        },
        "id": "cMBvnLhIyQT7",
        "outputId": "4d76c703-0a0e-4f3b-e509-85322bd31275"
      },
      "execution_count": null,
      "outputs": [
        {
          "output_type": "stream",
          "name": "stdout",
          "text": [
            "3\n"
          ]
        }
      ]
    },
    {
      "cell_type": "markdown",
      "source": [
        "Moda em uma query SQL\n",
        "```\n",
        "SELECT modalidade_conta, COUNT(*) AS total_contas\n",
        "FROM conta\n",
        "GROUP BY modalidade_conta\n",
        "ORDER BY total_contas DESC\n",
        "LIMIT 1\n",
        "```"
      ],
      "metadata": {
        "id": "EYR45_FCyuoT"
      }
    },
    {
      "cell_type": "markdown",
      "source": [
        "Moda em R"
      ],
      "metadata": {
        "id": "Ep4R5XOs30Mi"
      }
    },
    {
      "cell_type": "code",
      "source": [
        "%%R\n",
        "moda_values <- table(df$Nota)\n",
        "moda <- names(moda_values)[which.max(moda_values)]\n",
        "print(paste(\"Moda: \", moda))"
      ],
      "metadata": {
        "colab": {
          "base_uri": "https://localhost:8080/"
        },
        "id": "1QfgVIz433aM",
        "outputId": "39ca3f7d-80d6-40db-d5ba-3a65987845bf"
      },
      "execution_count": 3,
      "outputs": [
        {
          "output_type": "stream",
          "name": "stdout",
          "text": [
            "[1] \"Moda:  3\"\n"
          ]
        }
      ]
    },
    {
      "cell_type": "markdown",
      "source": [
        "## Média"
      ],
      "metadata": {
        "id": "cAM7YUz3Gcn8"
      }
    },
    {
      "cell_type": "markdown",
      "source": [
        "A média é o valor obtido pela soma de todos os valores do conjunto, dividida pelo número de valores."
      ],
      "metadata": {
        "id": "efiAgUve5sqr"
      }
    },
    {
      "cell_type": "markdown",
      "source": [
        "$$ \\mu = \\frac{1}{N}\\sum_{i=1}^{N}x_i $$"
      ],
      "metadata": {
        "id": "uyJ4Vhw_GjMU"
      }
    },
    {
      "cell_type": "code",
      "source": [
        "soma_conjunto = df['Nota'].sum()\n",
        "total_valores = len(df['Nota'])\n",
        "media = soma_conjunto/total_valores\n",
        "\n",
        "# Calculando a média com uma função built-in\n",
        "media_python = df['Nota'].mean()\n",
        "\n",
        "print(f'Valor da média calculado na \"mão\": {media}, média calculada usando a função mean: {media_python}')"
      ],
      "metadata": {
        "colab": {
          "base_uri": "https://localhost:8080/"
        },
        "id": "JqDav49V5zcb",
        "outputId": "e3e81a7a-c581-4734-9b84-c451ee2dbb37"
      },
      "execution_count": null,
      "outputs": [
        {
          "output_type": "stream",
          "name": "stdout",
          "text": [
            "Valor da média calculado na \"mão\": 5.0, média calculada usando a função mean: 5.0\n"
          ]
        }
      ]
    },
    {
      "cell_type": "markdown",
      "source": [
        "A média é útil para obter uma ideia geral do desempenho da turma, mas pode ser influenciada por valores muito altos ou muito baixos (outliers). Por exemplo, uma única nota muito alta (como a nota 11 de Daniela) pode elevar a média, não refletindo precisamente o desempenho típico dos alunos."
      ],
      "metadata": {
        "id": "pn5ash8k6uRU"
      }
    },
    {
      "cell_type": "markdown",
      "source": [
        "Média em uma consulta SQL\n",
        "\n",
        "```\n",
        "SELECT AVG(valor_boleto)\n",
        "FROM pagamentos;\n",
        "```"
      ],
      "metadata": {
        "id": "Ggs6jn2SC4eO"
      }
    },
    {
      "cell_type": "markdown",
      "source": [
        "Média em R"
      ],
      "metadata": {
        "id": "d6ayEhiZ4GSg"
      }
    },
    {
      "cell_type": "code",
      "source": [
        "%%R\n",
        "media <- mean(df$Nota)\n",
        "print(paste(\"Valor da média calculado em R:\", media))"
      ],
      "metadata": {
        "colab": {
          "base_uri": "https://localhost:8080/"
        },
        "id": "FmtNUA2J4IVU",
        "outputId": "976c5e40-cb79-44d9-bc38-405f2b682a4b"
      },
      "execution_count": 4,
      "outputs": [
        {
          "output_type": "stream",
          "name": "stdout",
          "text": [
            "[1] \"Valor da média calculado em R: 5\"\n"
          ]
        }
      ]
    },
    {
      "cell_type": "markdown",
      "source": [
        "## Mediana"
      ],
      "metadata": {
        "id": "8kTvbN8UzSA6"
      }
    },
    {
      "cell_type": "markdown",
      "source": [
        "A mediana é o valor que separa a metade superior da metade inferior de um conjunto de dados. Para encontrá-la, você organiza os valores em ordem crescente e seleciona o valor do meio. Se o número de observações for par, a mediana é a média dos dois valores centrais. A mediana é menos sensível a outliers em comparação com a média e, muitas vezes, é considerada uma representação mais precisa da tendência central, especialmente em distribuições assimétricas.\n",
        "\n",
        "No nosso exemplo, a mediana dá uma ideia melhor do desempenho típico dos alunos, pois não é tão influenciada pela nota atipicamente alta da Daniela.\n",
        "\n",
        "\n",
        "\n",
        "\n",
        "\n",
        "\n"
      ],
      "metadata": {
        "id": "jr5tkXss5oKr"
      }
    },
    {
      "cell_type": "code",
      "source": [
        "# Ordenando os valores\n",
        "notas_ordenadas = df['Nota'].sort_values()\n",
        "\n",
        "# Contando o número total de valores\n",
        "total_valores = len(notas_ordenadas)\n",
        "\n",
        "# Calculando a mediana\n",
        "if total_valores % 2 == 0:\n",
        "    # Se o número de valores é par, a mediana é a média dos dois valores do meio\n",
        "    valor_meio1 = notas_ordenadas.iloc[(total_valores//2) - 1]\n",
        "    valor_meio2 = notas_ordenadas.iloc[total_valores//2]\n",
        "    mediana = (valor_meio1 + valor_meio2) / 2\n",
        "else:\n",
        "    # Se o número de valores é ímpar, a mediana é o valor do meio\n",
        "    mediana = notas_ordenadas.iloc[total_valores//2]\n",
        "\n",
        "# Calculando a mediana com uma função built-in\n",
        "mediana_python = df['Nota'].median()\n",
        "\n",
        "print(f'Valor da mediana calculado na \"mão\": {mediana}, mediana calculada usando a função median: {mediana_python}')"
      ],
      "metadata": {
        "id": "TkkY2DPgzURr",
        "colab": {
          "base_uri": "https://localhost:8080/"
        },
        "outputId": "723d56df-6f88-4be1-8f49-be9cadb9af59"
      },
      "execution_count": null,
      "outputs": [
        {
          "output_type": "stream",
          "name": "stdout",
          "text": [
            "Valor da mediana calculado na \"mão\": 3.5, mediana calculada usando a função median: 3.5\n"
          ]
        }
      ]
    },
    {
      "cell_type": "markdown",
      "source": [
        "Mediana em uma consulta SQL\n",
        "\n",
        "```\n",
        "SELECT PERCENTILE_CONT(0.5) WITHIN GROUP(ORDER BY sale) FROM sales;\n",
        "```"
      ],
      "metadata": {
        "id": "p8dQvdNoH1Ue"
      }
    },
    {
      "cell_type": "markdown",
      "source": [
        "Mediana em R"
      ],
      "metadata": {
        "id": "g5M5FLKc4kBF"
      }
    },
    {
      "cell_type": "code",
      "source": [
        "%%R\n",
        "# Ordenando os valores em R\n",
        "notas_ordenadas <- sort(df$Nota)\n",
        "\n",
        "# Calculando o número total de valores\n",
        "total_valores <- length(notas_ordenadas)\n",
        "\n",
        "# Calculando a mediana em R\n",
        "if (total_valores %% 2 == 0) {\n",
        "  # Se o número de valores é par, a mediana é a média dos dois valores do meio\n",
        "  valor_meio1 <- notas_ordenadas[total_valores %/% 2]\n",
        "  valor_meio2 <- notas_ordenadas[(total_valores %/% 2) + 1]\n",
        "  mediana <- (valor_meio1 + valor_meio2) / 2\n",
        "} else {\n",
        "  # Se o número de valores é ímpar, a mediana é o valor do meio\n",
        "  mediana <- notas_ordenadas[(total_valores + 1) %/% 2]\n",
        "}\n",
        "\n",
        "# Exibindo o valor da mediana calculado em R\n",
        "print(paste(\"Valor da mediana calculado em R:\", mediana))\n",
        "\n",
        "# Calculando a mediana usando a função median() em R\n",
        "mediana_r <- median(df$Nota)\n",
        "\n",
        "# Exibindo a mediana calculada em R\n",
        "print(paste(\"Mediana calculada usando a função median em R:\", mediana_r))\n"
      ],
      "metadata": {
        "colab": {
          "base_uri": "https://localhost:8080/"
        },
        "id": "Tk-5CkpY4lj6",
        "outputId": "1fd8e632-d32b-4a74-e03a-faf49c2ed00f"
      },
      "execution_count": 6,
      "outputs": [
        {
          "output_type": "stream",
          "name": "stdout",
          "text": [
            "[1] \"Valor da mediana calculado em R: 3.5\"\n",
            "[1] \"Mediana calculada usando a função median em R: 3.5\"\n"
          ]
        }
      ]
    },
    {
      "cell_type": "markdown",
      "source": [
        "# Representação Gráfica"
      ],
      "metadata": {
        "id": "yTwc_kHj47Vg"
      }
    },
    {
      "cell_type": "code",
      "source": [
        "plt.figure(figsize=(10, 6))\n",
        "plt.bar(df['Aluno'], df['Nota'], color='lightblue')\n",
        "\n",
        "# Adicionando linhas para média, mediana e moda\n",
        "plt.axhline(media, color='r', linestyle='dashed', linewidth=2, label=f'Média: {media:.2f}')\n",
        "plt.axhline(mediana, color='g', linestyle='dashed', linewidth=2, label=f'Mediana: {mediana:.2f}')\n",
        "plt.axhline(moda, color='b', linestyle='dotted', linewidth=2, label=f'Moda: {moda}')\n",
        "\n",
        "plt.title('Notas dos Alunos com Média, Mediana e Moda')\n",
        "plt.xlabel('Alunos')\n",
        "plt.ylabel('Notas')\n",
        "plt.xticks(rotation=45)\n",
        "plt.legend()\n",
        "plt.tight_layout()\n",
        "plt.show()"
      ],
      "metadata": {
        "colab": {
          "base_uri": "https://localhost:8080/",
          "height": 607
        },
        "id": "uh0pRIzlEND0",
        "outputId": "cb2bf23e-b302-496e-d0fb-66eb0997f4b9"
      },
      "execution_count": null,
      "outputs": [
        {
          "output_type": "display_data",
          "data": {
            "text/plain": [
              "<Figure size 1000x600 with 1 Axes>"
            ],
            "image/png": "[encoded data removed]"
          },
          "metadata": {}
        }
      ]
    },
    {
      "cell_type": "markdown",
      "source": [
        "# Medidas de Dispersão\n",
        "* As medidas de dispersão indicam o grau em que os dados estão espalhados ou a variação dos dados em torno de uma medida central. As principais medidas de dispersão são: Desvio padrão, Amplitude(Range) e Quartis e Intervalo Interquartil (IQR)"
      ],
      "metadata": {
        "id": "_HUB1SoNSHZ-"
      }
    },
    {
      "cell_type": "markdown",
      "source": [
        "## Amplitude"
      ],
      "metadata": {
        "id": "K_0-45yASSVH"
      }
    },
    {
      "cell_type": "markdown",
      "source": [
        " É a diferença entre o maior e o menor valor no conjunto de dados. Indica a extensão da variação nos dados, mas é altamente sensível a outliers."
      ],
      "metadata": {
        "id": "44IrWaMPSVuN"
      }
    },
    {
      "cell_type": "code",
      "source": [
        "amplitude = (df['Nota'].max()) - (df['Nota'].min())\n",
        "amplitude"
      ],
      "metadata": {
        "colab": {
          "base_uri": "https://localhost:8080/"
        },
        "id": "kERL2TMaSsth",
        "outputId": "27f20470-dd14-470d-b1aa-54d86c6ae8ed"
      },
      "execution_count": null,
      "outputs": [
        {
          "output_type": "execute_result",
          "data": {
            "text/plain": [
              "9"
            ]
          },
          "metadata": {},
          "execution_count": 13
        }
      ]
    },
    {
      "cell_type": "markdown",
      "source": [
        "## Desvio Padrão"
      ],
      "metadata": {
        "id": "6SKAHRtGHvcs"
      }
    },
    {
      "cell_type": "markdown",
      "source": [
        "O desvio padrão é uma medida de dispersão que quantifica o quanto os valores de um conjunto de dados se desviam da média. Em outras palavras, ele indica o quanto os valores no conjunto de dados estão espalhados em relação à média."
      ],
      "metadata": {
        "id": "hRfa4ppVH3uc"
      }
    },
    {
      "cell_type": "markdown",
      "source": [
        "### Como Interpretar o Desvio Padrão:\n",
        "**Baixo Desvio Padrão:** Um desvio padrão baixo significa que os valores dos dados tendem a estar muito próximos da média. Em outras palavras, há pouca variação ou dispersão em relação à média.\n",
        "\n",
        "**Alto Desvio Padrão:** Um desvio padrão alto indica que os valores dos dados estão espalhados em uma faixa mais ampla. Há uma maior variação em relação à média."
      ],
      "metadata": {
        "id": "WG4b8b2gH9K2"
      }
    },
    {
      "cell_type": "markdown",
      "source": [
        "### Cálculo do Desvio Padrão:\n",
        "O desvio padrão é calculado pela raiz quadrada da variância. A variância é a média dos quadrados das diferenças entre cada valor e a média do conjunto de dados."
      ],
      "metadata": {
        "id": "7t778APdIUhy"
      }
    },
    {
      "cell_type": "markdown",
      "source": [
        "$$ \\sigma = \\sqrt{\\frac{1}{N}\\sum_{i=1}^{N}(x_i - \\mu)^2} $$"
      ],
      "metadata": {
        "id": "RiBUhOFkGHPq"
      }
    },
    {
      "cell_type": "code",
      "source": [
        "# Calculando a variância\n",
        "variancia = ((df['Nota'] - media) ** 2).sum() / (len(df['Nota']) - 1)\n",
        "\n",
        "# Calculando o desvio padrão\n",
        "desvio_padrao = variancia ** 0.5\n",
        "\n",
        "desvio_padrao_python = df['Nota'].std()\n",
        "print(f'Valor da desvio padrão calculado na \"mão\": {desvio_padrao}, desvio padrão calculado usando a função std: {desvio_padrao_python}')"
      ],
      "metadata": {
        "colab": {
          "base_uri": "https://localhost:8080/"
        },
        "id": "SPo19OuOHw1-",
        "outputId": "84fb65f8-7221-45de-b865-dda73f962f7d"
      },
      "execution_count": null,
      "outputs": [
        {
          "output_type": "stream",
          "name": "stdout",
          "text": [
            "Valor da desvio padrão calculado na \"mão\": 3.40587727318528, desvio padrão calculado usando a função std: 3.40587727318528\n"
          ]
        }
      ]
    },
    {
      "cell_type": "code",
      "source": [
        "# Criando o gráfico de barras\n",
        "plt.figure(figsize=(10, 6))\n",
        "plt.bar(df['Aluno'], df['Nota'], color='lightblue')\n",
        "\n",
        "# Adicionando linhas para média, mediana e moda\n",
        "plt.axhline(media, color='r', linestyle='dashed', linewidth=2, label=f'Média: {media:.2f}')\n",
        "plt.axhline(mediana, color='g', linestyle='dashed', linewidth=2, label=f'Mediana: {mediana:.2f}')\n",
        "plt.axhline(moda, color='b', linestyle='dotted', linewidth=2, label=f'Moda: {moda}')\n",
        "\n",
        "# Adicionando linha para o desvio padrão\n",
        "plt.axhline(media + desvio_padrao, color='purple', linestyle='dashdot', linewidth=2, label=f'Desvio Padrão: {desvio_padrao:.2f}')\n",
        "plt.axhline(media - desvio_padrao, color='purple', linestyle='dashdot', linewidth=2)\n",
        "\n",
        "plt.title('Notas dos Alunos com Média, Mediana, Moda e Desvio Padrão')\n",
        "plt.xlabel('Alunos')\n",
        "plt.ylabel('Notas')\n",
        "plt.xticks(rotation=45)\n",
        "plt.legend()\n",
        "plt.tight_layout()\n",
        "plt.show()"
      ],
      "metadata": {
        "colab": {
          "base_uri": "https://localhost:8080/",
          "height": 607
        },
        "id": "RXhPxf7YNNpt",
        "outputId": "60786e89-0000-47a6-94f6-261362b66418"
      },
      "execution_count": null,
      "outputs": [
        {
          "output_type": "display_data",
          "data": {
            "text/plain": [
              "<Figure size 1000x600 with 1 Axes>"
            ],
            "image/png": "[encoded data removed]"
          },
          "metadata": {}
        }
      ]
    },
    {
      "cell_type": "markdown",
      "source": [
        "## Quartis e Intervalo Interquartil (IQR):\n",
        "* Os quartis dividem os dados ordenados em quatro partes iguais. O IQR é a diferença entre o terceiro quartil (Q3) e o primeiro quartil (Q1) e descreve a variação no meio 50% dos dados."
      ],
      "metadata": {
        "id": "9D6Hyr98TvPx"
      }
    },
    {
      "cell_type": "markdown",
      "source": [
        "## Boxplot"
      ],
      "metadata": {
        "id": "oxR3SolmI8Aj"
      }
    },
    {
      "cell_type": "code",
      "source": [
        "# Calculando os quartis e IQR\n",
        "Q1 = df['Nota'].quantile(0.25)\n",
        "Q2 = df['Nota'].median()  # ou quantile(0.5)\n",
        "Q3 = df['Nota'].quantile(0.75)\n",
        "IQR = Q3 - Q1\n",
        "\n",
        "plt.figure(figsize=(8, 6))\n",
        "boxplot = plt.boxplot(df['Nota'], patch_artist=True)\n",
        "\n",
        "colors = ['#0000FF']\n",
        "for patch in boxplot['boxes']:\n",
        "    patch.set_facecolor(colors[0])\n",
        "\n",
        "# Adicionando anotações para os quartis\n",
        "plt.text(1.1, Q1, f'Q1: {Q1}', verticalalignment='center', fontsize=10)\n",
        "plt.text(1.1, Q2, f'Q2: {Q2}', verticalalignment='center', fontsize=10)\n",
        "plt.text(1.1, Q3, f'Q3: {Q3}', verticalalignment='center', fontsize=10)\n",
        "plt.text(1.1, Q1 - (0.1 * IQR), f'IQR: {IQR}', verticalalignment='center', fontsize=10, color='red')\n",
        "\n",
        "\n",
        "plt.title('Boxplot das Notas dos Alunos com Quartis e IQR')\n",
        "plt.xticks([1], ['Notas'])\n",
        "plt.ylabel('Notas')\n",
        "\n",
        "\n",
        "plt.show()"
      ],
      "metadata": {
        "colab": {
          "base_uri": "https://localhost:8080/",
          "height": 545
        },
        "id": "JEmJtVINTZCo",
        "outputId": "6c867f59-aad5-4d2c-94aa-c18c4f2f4fe2"
      },
      "execution_count": null,
      "outputs": [
        {
          "output_type": "display_data",
          "data": {
            "text/plain": [
              "<Figure size 800x600 with 1 Axes>"
            ],
            "image/png": "[encoded data removed]"
          },
          "metadata": {}
        }
      ]
    }
  ]
}